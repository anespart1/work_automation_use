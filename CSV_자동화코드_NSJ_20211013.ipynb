{
  "nbformat": 4,
  "nbformat_minor": 0,
  "metadata": {
    "colab": {
      "name": "CSV_자동화코드_NSJ_20211013.ipynb",
      "provenance": [],
      "collapsed_sections": [],
      "authorship_tag": "ABX9TyPGV9wsFnUDoFDVb44TEcpC",
      "include_colab_link": true
    },
    "kernelspec": {
      "name": "python3",
      "display_name": "Python 3"
    },
    "language_info": {
      "name": "python"
    }
  },
  "cells": [
    {
      "cell_type": "markdown",
      "metadata": {
        "id": "view-in-github",
        "colab_type": "text"
      },
      "source": [
        "<a href=\"https://colab.research.google.com/github/anespart1/work_automation_use/blob/main/CSV_%EC%9E%90%EB%8F%99%ED%99%94%EC%BD%94%EB%93%9C_NSJ_20211013.ipynb\" target=\"_parent\"><img src=\"https://colab.research.google.com/assets/colab-badge.svg\" alt=\"Open In Colab\"/></a>"
      ]
    },
    {
      "cell_type": "code",
      "metadata": {
        "id": "_dKSYfaWjCj3"
      },
      "source": [
        "#-*- coding: utf-8 -*-\n",
        "#주피터노트북에서의 사용을 고려해 제작되었음.\n",
        "import os\n",
        "import pandas as pd"
      ],
      "execution_count": null,
      "outputs": []
    },
    {
      "cell_type": "code",
      "metadata": {
        "id": "AwDW88v-jGbw"
      },
      "source": [
        "#파일경로 가져오는 부분\n",
        "path = os.getcwd()\n",
        "input_path = input('파일경로 또는 폴더 이름을 입력해주세요: ')\n",
        "if '/' in input_path or '\\\\' in input_path:\n",
        "    path1 = input_path\n",
        "elif len(input_path) > 1 :\n",
        "    path1 = os.getcwd() + '\\\\{}'.format(input_path)\n",
        "else:\n",
        "    ValueError('파일명이 정확하지 않습니다. 다시 입력해주세요.')\n",
        "\n",
        "flist = os.listdir(path1)\n",
        "os.chdir(path1)"
      ],
      "execution_count": null,
      "outputs": []
    },
    {
      "cell_type": "code",
      "metadata": {
        "id": "b16bUOX4jLRk"
      },
      "source": [
        "#작업내용이 저장될 폴더 지정/작성하는 부분\n",
        "output_name = input('작업내용이 저장될 폴더 이름을 입력해주세요: ')\n",
        "output_path = '{}\\\\{}'.format(path, output_name)\n",
        "try: \n",
        "    os.mkdir(output_path)\n",
        "except FileExistError:\n",
        "    pass"
      ],
      "execution_count": null,
      "outputs": []
    },
    {
      "cell_type": "code",
      "metadata": {
        "id": "KPk-Y_doU38H"
      },
      "source": [
        "#열제목 리셋하는 함수\n",
        "def reset_column_names(df):\n",
        "  one_row = df.columns\n",
        "  one_df = pd.DataFrame(one_row).transpose()\n",
        "  df.columns = one_df.columns\n",
        "  df = pd.concat([one_df, df]).copy()\n",
        "  return df"
      ],
      "execution_count": null,
      "outputs": []
    },
    {
      "cell_type": "code",
      "metadata": {
        "id": "mKAss_H3jPel"
      },
      "source": [
        "def read_and_save_rows(filename=None, startrow=None, endrow=None):\n",
        "  #파일 불러오기\n",
        "  df = pd.read_csv(filename)\n",
        "  #열이름 리셋 & 기존 열이름 행값으로 삽입하기\n",
        "  df = reset_column_names(df)\n",
        "  #원하는 열값만 저장하기\n",
        "  df1 = df[df.columns[startrow:endrow]].copy()\n",
        "  df1.to_csv('{}\\\\{}'.format(output_path, filename))"
      ],
      "execution_count": null,
      "outputs": []
    },
    {
      "cell_type": "code",
      "metadata": {
        "id": "Ry4rY3nOWEuR"
      },
      "source": [
        "def find_and_save_rows(filename=None, code_file=None):\n",
        "  #파일 불러오기\n",
        "  df = pd.read_csv(filename)\n",
        "  #열이름 리셋 & 기존 열이름 행값으로 삽입하기\n",
        "  df = reset_column_names(df)\n",
        "  #반복문 돌려서 데이터 뽑아내 저장하기\n",
        "  for num, i in enumerate(code_df[0]):\n",
        "    if num < 1:\n",
        "      test2 = df[(df[df.columns[1]]== i)]\n",
        "    else:\n",
        "      test1 = df[(df[df.columns[1]]== i)]\n",
        "      test2 = pd.concat([test2, test1])\n",
        "  return test2"
      ],
      "execution_count": null,
      "outputs": []
    },
    {
      "cell_type": "code",
      "metadata": {
        "id": "3VlRJRZLjRn-"
      },
      "source": [
        "#read_and_save_rows 예제\n",
        "#사용하지 않으면 해당 부분 모두 주석처리 또는 실행X\n",
        "startrow = int(input('잘라내기를 시작할 열을 입력해주세요(0부터): '))\n",
        "endrow = int(input('잘라내기를 끝낼 열을 입력해주세요(0부터): '))\n",
        "\n",
        "for i in flist:\n",
        "    read_and_save_rows(i, startrow, endrow)"
      ],
      "execution_count": null,
      "outputs": []
    },
    {
      "cell_type": "code",
      "metadata": {
        "id": "S86EsSGDlcQJ"
      },
      "source": [
        "#find_and_save_rows 예제\n",
        "#사용하지 않으면 해당 부분 모두 주석처리 또는 실행X\n",
        "code_df = pd.read_csv(path + '\\\\{}'.format('code.csv'))\n",
        "code_df = reset_column_names(code_df)\n",
        "for i in flist:\n",
        "  select_by_code = find_and_save_rows(filename=i, code_file=code_df)\n",
        "  select_by_code.to_csv('{}\\\\{}'.format(output_path, i))"
      ],
      "execution_count": null,
      "outputs": []
    }
  ]
}